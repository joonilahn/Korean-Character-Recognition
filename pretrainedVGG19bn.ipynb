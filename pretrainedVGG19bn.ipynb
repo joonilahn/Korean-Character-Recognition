{
 "cells": [
  {
   "cell_type": "code",
   "execution_count": 21,
   "metadata": {
    "collapsed": true
   },
   "outputs": [],
   "source": [
    "from __future__ import print_function, division\n",
    "import os, glob, argparse\n",
    "import torch\n",
    "from skimage import io, transform\n",
    "import numpy as np\n",
    "import matplotlib.pyplot as plt\n",
    "from torch.utils.data import Dataset, DataLoader\n",
    "from torchvision import transforms, utils, models\n",
    "from torch.utils.data.sampler import SubsetRandomSampler\n",
    "import torch.nn as nn\n",
    "from torch.autograd import Variable\n",
    "from torch.optim import lr_scheduler\n",
    "from scipy.ndimage import imread\n",
    "import cv2\n",
    "import shutil\n",
    "import time"
   ]
  },
  {
   "cell_type": "code",
   "execution_count": 904,
   "metadata": {},
   "outputs": [],
   "source": [
    "class HangulDataset(Dataset):\n",
    "    \"\"\"Hangul Handwritten dataset.\"\"\"\n",
    "\n",
    "    def __init__(self, root_dir, subroot='char_data', transform=None):\n",
    "        \"\"\"\n",
    "        Args:\n",
    "            root_dir (string): Directory with all the images.\n",
    "            transform (callable, optional): Optional transform to be applied\n",
    "                on a sample.\n",
    "        \"\"\"\n",
    "        self.root_dir = root_dir\n",
    "        self.subroot = subroot\n",
    "        self.transform = transform\n",
    "        self.classlist = os.listdir(os.path.join(root_dir, self.subroot))\n",
    "        self.targets = []\n",
    "        self.filenames = []\n",
    "        self.targetdict = {}\n",
    "        for i, label in enumerate(self.classlist):\n",
    "            files = glob.glob(\n",
    "                        os.path.join(self.root_dir, self.subroot, label) + '/*')\n",
    "            self.filenames += files\n",
    "            self.targets += [i] * len(files)\n",
    "            self.targetdict[i] = int(label, 16)\n",
    "            \n",
    "    def __len__(self):\n",
    "        return len(self.filenames)\n",
    "\n",
    "    def __getitem__(self, idx):\n",
    "        img_name = self.filenames[idx]\n",
    "        target = self.targets[idx]\n",
    "        sample = imread(img_name, mode='L')\n",
    "        if self.transform:\n",
    "            sample = self.transform(sample)\n",
    "        return (sample, target)\n",
    "    \n",
    "class Rescale(object):\n",
    "    \"\"\"Rescale the image in a sample to a given size.\n",
    "\n",
    "    Args:\n",
    "        output_size (tuple or tuple): Desired output size. If tuple, output is\n",
    "            matched to output_size. If int, smaller of image edges is matched\n",
    "            to output_size keeping aspect ratio the same.\n",
    "    \"\"\"\n",
    "\n",
    "    def __init__(self, output_size):\n",
    "        assert isinstance(output_size, (int, tuple))\n",
    "        self.output_size = output_size\n",
    "\n",
    "    def __call__(self, image):\n",
    "        h, w = image.shape[:2]\n",
    "        if isinstance(self.output_size, int):\n",
    "            if h > w:\n",
    "                new_h, new_w = self.output_size * h / w, self.output_size\n",
    "            else:\n",
    "                new_h, new_w = self.output_size, self.output_size * w / h\n",
    "        else:\n",
    "            new_h, new_w = self.output_size\n",
    "\n",
    "        new_h, new_w = int(new_h), int(new_w)\n",
    "\n",
    "        img = transform.resize(image, (self.output_size, self.output_size),\n",
    "                               mode='reflect')\n",
    "        return img\n",
    "    \n",
    "class RandomCrop(object):\n",
    "    \"\"\"Crop randomly the image in a sample.\n",
    "\n",
    "    Args:\n",
    "        output_size (tuple or int): Desired output size. If int, square crop\n",
    "            is made.\n",
    "    \"\"\"\n",
    "\n",
    "    def __init__(self, output_size):\n",
    "        assert isinstance(output_size, (int, tuple))\n",
    "        if isinstance(output_size, int):\n",
    "            self.output_size = (output_size, output_size)\n",
    "        else:\n",
    "            assert len(output_size) == 2\n",
    "            self.output_size = output_size\n",
    "\n",
    "    def __call__(self, image):\n",
    "        h, w = image.shape[:2]\n",
    "        new_h, new_w = self.output_size\n",
    "\n",
    "        top = np.random.randint(0, h - new_h)\n",
    "        left = np.random.randint(0, w - new_w)\n",
    "\n",
    "        image = image[top: top + new_h,\n",
    "                      left: left + new_w]\n",
    "\n",
    "        return image\n",
    "    \n",
    "class ToTensor(object):\n",
    "    \"\"\"Convert ndarrays in sample to Tensors.\"\"\"\n",
    "\n",
    "    def __call__(self, sample):\n",
    "        # swap color axis because\n",
    "        # numpy image: H x W x C\n",
    "        # torch image: C X H X W\n",
    "        dims = sample.shape\n",
    "        if len(dims) == 2:\n",
    "            image = np.expand_dims(sample, 0)\n",
    "        else:\n",
    "            image = sample.transpose((2, 0, 1))\n",
    "        sampletensor = torch.from_numpy(image)\n",
    "        return sampletensor.type(torch.FloatTensor)\n",
    "    \n",
    "class ObjectCrop(object):\n",
    "    \"\"\"Use findContours function of OpenCV to detect object and crop the images\"\"\"            \n",
    "    def __call__(self, sample):\n",
    "        # Find contours\n",
    "        (_, contours, _) = cv2.findContours(sample.copy(), cv2.RETR_EXTERNAL, cv2.CHAIN_APPROX_SIMPLE)\n",
    "\n",
    "        # if no contour found\n",
    "        if len(contours) == 0:\n",
    "            return sample\n",
    "\n",
    "        # one contour found\n",
    "        if len(contours) == 1:\n",
    "            [x, y, w, h] = cv2.boundingRect(contours[0])\n",
    "            yh = y + h\n",
    "            xw = x + w\n",
    "\n",
    "        # multiple contours found\n",
    "        else:\n",
    "            for i, contour in enumerate(contours):\n",
    "                if i==0:\n",
    "                    [x, y, w, h] = cv2.boundingRect(contour)\n",
    "                    yh = y + h\n",
    "                    xw = x + w\n",
    "                else:\n",
    "                    [new_x, new_y, new_w, new_h] = cv2.boundingRect(contour)\n",
    "                    # Ignore too narrow contours (outliers)\n",
    "                    if new_w < 5or new_h < 5:\n",
    "                        continue\n",
    "                    new_yh = new_y + new_h\n",
    "                    new_xw = new_x + new_w\n",
    "                    if new_x < x:\n",
    "                        x = new_x\n",
    "                    if new_y < y:\n",
    "                        y = new_y\n",
    "                    if new_yh > yh: \n",
    "                        yh = new_yh\n",
    "                    if new_xw > xw:\n",
    "                        xw = new_xw\n",
    "        if yh-y < 50 or xw-x < 50:\n",
    "            return sample\n",
    "        else:\n",
    "            return sample[y:yh, x:xw]\n",
    "        \n",
    "class Denoise(object):\n",
    "    \"\"\"Stablize pixel values of images.\"\"\"\n",
    "    def __call__(self, sample):\n",
    "        sample = cv2.threshold(sample, 225, 255, cv2.THRESH_BINARY_INV)[1]\n",
    "        return sample\n",
    "    \n",
    "class Normalize(object):\n",
    "    \"\"\"Normalize images.\"\"\"\n",
    "    def __init__(self, mean, std):\n",
    "        self.mean = mean\n",
    "        self.std = std\n",
    "    def __call__(self, sample):\n",
    "        return (sample - self.mean) / self.std"
   ]
  },
  {
   "cell_type": "code",
   "execution_count": 921,
   "metadata": {},
   "outputs": [],
   "source": [
    "hangul_dataset = HangulDataset('set01', transform =\n",
    "                               transforms.Compose([Denoise(), ObjectCrop()]))\n",
    "# hangul_dataset = HangulDataset('set01')\n",
    "transformed_dataset = HangulDataset(root_dir='set01',\n",
    "                                    transform=transforms.Compose([\n",
    "                                    Denoise(),\n",
    "                                    ObjectCrop(),\n",
    "                                    Normalize(50.81, 110.16),\n",
    "                                    Rescale(224),\n",
    "                                    ToTensor(),  \n",
    "                                    transforms.Lambda(lambda x: torch.cat([x, x, x], 0)),\n",
    "                                           ]))\n",
    "dataloader = DataLoader(transformed_dataset, batch_size=100,\n",
    "                        shuffle=True)"
   ]
  },
  {
   "cell_type": "raw",
   "metadata": {
    "scrolled": true
   },
   "source": [
    "num_data = len(hangul_dataset)\n",
    "mean = 0\n",
    "sampleidx = list(range(num_data))\n",
    "# np.random.shuffle(sampleidx)\n",
    "samplemean = 0\n",
    "for i in list(range(num_data)):\n",
    "    samplemean += np.mean(hangul_dataset[sampleidx[i]][0])\n",
    "samplemean = samplemean / num_data\n",
    "print('mean: {}'.format(samplemean))"
   ]
  },
  {
   "cell_type": "raw",
   "metadata": {},
   "source": [
    "samplestd = 0\n",
    "sampleidx = list(range(num_data))\n",
    "np.random.shuffle(sampleidx)\n",
    "samples = np.zeros([])\n",
    "for i in sampleidx[:]:\n",
    "    sample = hangul_dataset[sampleidx[sampleidx[i]]][0].flatten()\n",
    "    samples = np.append(samplestd, sample)\n",
    "samplestd = samples.std()\n",
    "print('sample std: {}'.format(samplestd))"
   ]
  },
  {
   "cell_type": "markdown",
   "metadata": {},
   "source": [
    "### Show sample image"
   ]
  },
  {
   "cell_type": "code",
   "execution_count": 906,
   "metadata": {},
   "outputs": [
    {
     "data": {
      "image/png": "[encoded data removed]",
      "text/plain": [
       "<matplotlib.figure.Figure at 0x7f943dd76a90>"
      ]
     },
     "metadata": {},
     "output_type": "display_data"
    }
   ],
   "source": [
    "idx = int(np.random.rand(1)*len(transformed_dataset))\n",
    "plt.imshow(hangul_dataset[idx][0], cmap='gray')\n",
    "plt.show()"
   ]
  },
  {
   "cell_type": "markdown",
   "metadata": {},
   "source": [
    "### Show transformed image"
   ]
  },
  {
   "cell_type": "code",
   "execution_count": 907,
   "metadata": {
    "scrolled": false
   },
   "outputs": [
    {
     "data": {
      "image/png": "[encoded data removed]",
      "text/plain": [
       "<matplotlib.figure.Figure at 0x7f9457033550>"
      ]
     },
     "metadata": {},
     "output_type": "display_data"
    }
   ],
   "source": [
    "plt.imshow(transformed_dataset[idx][0].numpy().transpose(1,2,0))\n",
    "plt.show()"
   ]
  },
  {
   "cell_type": "code",
   "execution_count": 922,
   "metadata": {
    "scrolled": false
   },
   "outputs": [
    {
     "name": "stdout",
     "output_type": "stream",
     "text": [
      "0 torch.Size([100, 3, 224, 224])\n",
      "1 torch.Size([100, 3, 224, 224])\n",
      "2 torch.Size([100, 3, 224, 224])\n",
      "3 torch.Size([100, 3, 224, 224])\n"
     ]
    },
    {
     "data": {
      "image/png": "[encoded data removed]",
      "text/plain": [
       "<matplotlib.figure.Figure at 0x7f9456f9cb38>"
      ]
     },
     "metadata": {},
     "output_type": "display_data"
    }
   ],
   "source": [
    "def show_batch(sample_batched):\n",
    "    \"\"\"Show images for a batch of samples.\"\"\"\n",
    "    batch_size = len(sample_batched)\n",
    "    im_size = sample_batched.size(2)\n",
    "\n",
    "    grid = utils.make_grid(sample_batched)\n",
    "    plt.imshow(grid.numpy().transpose((1, 2, 0)))\n",
    "    plt.title('Batch from dataloader')\n",
    "\n",
    "for i_batch, (sample_batched, target_batched) in enumerate(dataloader):\n",
    "    print(i_batch, sample_batched.size())\n",
    "\n",
    "    # observe 4th batch and stop.\n",
    "    if i_batch == 3:\n",
    "        plt.figure()\n",
    "        show_batch(sample_batched)\n",
    "        plt.axis('off')\n",
    "        plt.ioff()\n",
    "        plt.show()\n",
    "        break"
   ]
  },
  {
   "cell_type": "code",
   "execution_count": 923,
   "metadata": {
    "collapsed": true,
    "scrolled": true
   },
   "outputs": [],
   "source": [
    "pretrained_model = models.vgg19_bn(pretrained=True)"
   ]
  },
  {
   "cell_type": "code",
   "execution_count": 924,
   "metadata": {
    "collapsed": true
   },
   "outputs": [],
   "source": [
    "# create custom VGG19_bn\n",
    "num_classes = 2350\n",
    "class CustomVGG19bn(nn.Module):\n",
    "    def __init__(self, num_classes):\n",
    "        super(CustomVGG19bn, self).__init__()\n",
    "        self.features = nn.Sequential(*list(pretrained_model.features.children()))\n",
    "        self.classifier = nn.Sequential(\n",
    "            *[list(pretrained_model.classifier.children())[i] for i in range(6)],\n",
    "            nn.Linear(4096, num_classes)\n",
    "        )\n",
    "    \n",
    "    def forward(self, x):\n",
    "        x = self.features(x)\n",
    "        x = x.view(x.size(0), 25088)\n",
    "        x = self.classifier(x)\n",
    "        return x\n",
    "\n",
    "# load custom model\n",
    "model = CustomVGG19bn(num_classes=2350)"
   ]
  },
  {
   "cell_type": "code",
   "execution_count": 925,
   "metadata": {
    "collapsed": true
   },
   "outputs": [],
   "source": [
    "for param in model.parameters():\n",
    "    param.requires_grad = False\n",
    "for layer_idx, param in enumerate(model.classifier.parameters()):\n",
    "    param.requires_grad = True"
   ]
  },
  {
   "cell_type": "code",
   "execution_count": 11,
   "metadata": {},
   "outputs": [
    {
     "name": "stdout",
     "output_type": "stream",
     "text": [
      "[torch.Size([4096, 25088]), torch.Size([4096]), torch.Size([4096, 4096]), torch.Size([4096]), torch.Size([2350, 4096]), torch.Size([2350])]\n"
     ]
    }
   ],
   "source": [
    "# unfrozen_weights = filter(lambda x: x.requires_grad, model.parameters())\n",
    "# print(list(map(lambda x: x.size(), unfrozen_weights)))"
   ]
  },
  {
   "cell_type": "code",
   "execution_count": 942,
   "metadata": {
    "collapsed": true
   },
   "outputs": [],
   "source": [
    "def train_model(model, criterion, optimizer, scheduler, dataloaders, num_epochs=25):\n",
    "    since = time.time()\n",
    "\n",
    "    best_model_wts = model.state_dict()\n",
    "    best_acc = 0.0\n",
    "\n",
    "    for epoch in range(num_epochs):\n",
    "        print('Epoch {}/{}'.format(epoch+1, num_epochs))\n",
    "        print('-' * 10)\n",
    "\n",
    "        # Each epoch has a training and validation phase\n",
    "        for phase in ['train', 'val']:\n",
    "            if phase == 'train':\n",
    "                scheduler.step()\n",
    "                model.train(True)  # Set model to training mode\n",
    "            else:\n",
    "                model.train(False)  # Set model to evaluate mode\n",
    "\n",
    "            running_loss = 0.0\n",
    "            running_corrects = 0\n",
    "\n",
    "            # Iterate over data.\n",
    "            for i, data in enumerate(dataloaders[phase]):\n",
    "                # get the inputs\n",
    "                inputs, labels = data\n",
    "\n",
    "                # wrap them in Variable\n",
    "                if use_gpu:\n",
    "                    if phase == 'train':\n",
    "                        inputs = Variable(inputs).float().cuda()\n",
    "                        labels = Variable(labels).long().cuda()\n",
    "                    else:\n",
    "                        inputs = Variable(inputs, volatile=True).float().cuda()\n",
    "                        labels = Variable(labels, volatile=True).long().cuda()\n",
    "                else:\n",
    "                    if phase == 'train':\n",
    "                        inputs, labels = Variable(inputs).float(), Variable(labels).long()\n",
    "                    else:\n",
    "                        inputs, labels = Variable(inputs, volatile=True).float(), Variable(labels, volatile=True).long()\n",
    "\n",
    "                # zero the parameter gradients\n",
    "                optimizer.zero_grad()\n",
    "\n",
    "                # forward\n",
    "                outputs = model(inputs)\n",
    "                _, preds = torch.max(outputs.data, 1)\n",
    "                loss = criterion(outputs, labels)\n",
    "\n",
    "                # backward + optimize only if in training phase\n",
    "                if phase == 'train':\n",
    "                    loss.backward()\n",
    "                    optimizer.step()\n",
    "\n",
    "                # statistics\n",
    "                running_loss += loss.data[0]\n",
    "                running_corrects += torch.sum(preds == labels.data)\n",
    "                \n",
    "                # print every 10 iterations\n",
    "                if (i+1) % 10 == 0:\n",
    "                    print('Epoch: {0:}/{1:}, Iterations: {2:}/{3:}, Training loss: {4:6.2f}'.\n",
    "                     format(epoch+1, num_epochs, i+1, len(dataloaders[phase]), loss.data[0]))\n",
    "\n",
    "            epoch_loss = running_loss / len(dataloaders[phase])\n",
    "            epoch_acc = running_corrects / len(dataloaders[phase])\n",
    "\n",
    "            print('{} Loss: {:.4f} Acc: {:.4f}'.format(\n",
    "                phase, epoch_loss, epoch_acc))\n",
    "\n",
    "            # deep copy the model\n",
    "            if phase == 'val' and epoch_acc > best_acc:\n",
    "                best_acc = epoch_acc\n",
    "                best_model_wts = model.state_dict()\n",
    "\n",
    "        print()\n",
    "\n",
    "    time_elapsed = time.time() - since\n",
    "    print('Training complete in {:.0f}m {:.0f}s'.format(\n",
    "        time_elapsed // 60, time_elapsed % 60))\n",
    "    print('Best val Acc: {:4f}'.format(best_acc))\n",
    "\n",
    "    # load best model weights\n",
    "    model.load_state_dict(best_model_wts)\n",
    "    return model"
   ]
  },
  {
   "cell_type": "code",
   "execution_count": 943,
   "metadata": {
    "collapsed": true
   },
   "outputs": [],
   "source": [
    "# train, test data split\n",
    "num_data = len(hangul_dataset.filenames)\n",
    "indices = list(range(num_data))\n",
    "np.random.seed(42)\n",
    "np.random.shuffle(indices)\n",
    "\n",
    "val_size = 0.20\n",
    "test_size = 0.20\n",
    "test_split = int(np.floor(test_size * num_data))\n",
    "val_split = test_split + int(np.floor(val_size * num_data))\n",
    "num_train = num_data - val_split - test_split\n",
    "train_idx, val_idx, test_idx = indices[val_split:], indices[test_split:val_split] , indices[:test_split]\n",
    "\n",
    "# Hyper Parameters\n",
    "num_epochs = 1\n",
    "batch_size = 100\n",
    "learning_rate = 0.0001\n",
    "\n",
    " # Define sampler\n",
    "train_sampler = SubsetRandomSampler(train_idx)\n",
    "val_sampler = SubsetRandomSampler(val_idx)\n",
    "test_sampler = SubsetRandomSampler(test_idx)\n",
    "\n",
    "# Train, test dataset loader\n",
    "train_loader = DataLoader(transformed_dataset, \n",
    "                        batch_size=batch_size, sampler=train_sampler)\n",
    "\n",
    "val_loader = DataLoader(transformed_dataset, \n",
    "                        batch_size=batch_size, sampler=val_sampler)\n",
    "\n",
    "test_loader = DataLoader(transformed_dataset, \n",
    "                        batch_size=batch_size, sampler=test_sampler)\n",
    "\n",
    "dataloaders = {'train':train_loader, 'val':val_loader}\n",
    "\n",
    " # use gpu if cuda is available\n",
    "use_gpu = torch.cuda.is_available()\n",
    "\n",
    "if use_gpu:\n",
    "    model = model.cuda()\n",
    "criterion = nn.CrossEntropyLoss()\n",
    "\n",
    "# Observe that all parameters are being optimized\n",
    "optimizer = torch.optim.Adam(model.classifier.parameters(), lr=learning_rate)\n",
    "\n",
    "# Decay LR by a factor of 0.1 every 7 epochs\n",
    "exp_lr_scheduler = lr_scheduler.StepLR(optimizer, step_size=7, gamma=0.1)"
   ]
  },
  {
   "cell_type": "code",
   "execution_count": 944,
   "metadata": {},
   "outputs": [
    {
     "name": "stdout",
     "output_type": "stream",
     "text": [
      "Epoch 1/1\n",
      "----------\n",
      "Epoch: 1/1, Iterations: 10/1841, Training loss:   7.75\n",
      "Epoch: 1/1, Iterations: 20/1841, Training loss:   7.79\n",
      "Epoch: 1/1, Iterations: 30/1841, Training loss:   7.77\n",
      "Epoch: 1/1, Iterations: 40/1841, Training loss:   7.77\n",
      "Epoch: 1/1, Iterations: 50/1841, Training loss:   7.77\n",
      "Epoch: 1/1, Iterations: 60/1841, Training loss:   7.78\n",
      "Epoch: 1/1, Iterations: 70/1841, Training loss:   7.77\n",
      "Epoch: 1/1, Iterations: 80/1841, Training loss:   7.77\n",
      "Epoch: 1/1, Iterations: 90/1841, Training loss:   7.79\n",
      "Epoch: 1/1, Iterations: 100/1841, Training loss:   7.72\n",
      "Epoch: 1/1, Iterations: 110/1841, Training loss:   7.75\n",
      "Epoch: 1/1, Iterations: 120/1841, Training loss:   7.71\n",
      "Epoch: 1/1, Iterations: 130/1841, Training loss:   7.79\n",
      "Epoch: 1/1, Iterations: 140/1841, Training loss:   7.71\n",
      "Epoch: 1/1, Iterations: 150/1841, Training loss:   7.69\n",
      "Epoch: 1/1, Iterations: 160/1841, Training loss:   7.74\n",
      "Epoch: 1/1, Iterations: 170/1841, Training loss:   7.64\n",
      "Epoch: 1/1, Iterations: 180/1841, Training loss:   7.67\n",
      "Epoch: 1/1, Iterations: 190/1841, Training loss:   7.58\n",
      "Epoch: 1/1, Iterations: 200/1841, Training loss:   7.48\n",
      "Epoch: 1/1, Iterations: 210/1841, Training loss:   7.53\n",
      "Epoch: 1/1, Iterations: 220/1841, Training loss:   7.40\n",
      "Epoch: 1/1, Iterations: 230/1841, Training loss:   7.34\n",
      "Epoch: 1/1, Iterations: 240/1841, Training loss:   7.40\n",
      "Epoch: 1/1, Iterations: 250/1841, Training loss:   7.23\n",
      "Epoch: 1/1, Iterations: 260/1841, Training loss:   7.18\n",
      "Epoch: 1/1, Iterations: 270/1841, Training loss:   7.11\n",
      "Epoch: 1/1, Iterations: 280/1841, Training loss:   7.08\n",
      "Epoch: 1/1, Iterations: 290/1841, Training loss:   7.04\n"
     ]
    },
    {
     "ename": "KeyboardInterrupt",
     "evalue": "",
     "output_type": "error",
     "traceback": [
      "\u001b[0;31m---------------------------------------------------------------------------\u001b[0m",
      "\u001b[0;31mKeyboardInterrupt\u001b[0m                         Traceback (most recent call last)",
      "\u001b[0;32m<ipython-input-944-0b14eeeb86a1>\u001b[0m in \u001b[0;36m<module>\u001b[0;34m()\u001b[0m\n\u001b[1;32m      1\u001b[0m model = train_model(model, criterion, optimizer, exp_lr_scheduler, dataloaders,\n\u001b[0;32m----> 2\u001b[0;31m                        num_epochs=num_epochs)\n\u001b[0m",
      "\u001b[0;32m<ipython-input-942-00bcec9f7980>\u001b[0m in \u001b[0;36mtrain_model\u001b[0;34m(model, criterion, optimizer, scheduler, dataloaders, num_epochs)\u001b[0m\n\u001b[1;32m     53\u001b[0m \u001b[0;34m\u001b[0m\u001b[0m\n\u001b[1;32m     54\u001b[0m                 \u001b[0;31m# statistics\u001b[0m\u001b[0;34m\u001b[0m\u001b[0;34m\u001b[0m\u001b[0m\n\u001b[0;32m---> 55\u001b[0;31m                 \u001b[0mrunning_loss\u001b[0m \u001b[0;34m+=\u001b[0m \u001b[0mloss\u001b[0m\u001b[0;34m.\u001b[0m\u001b[0mdata\u001b[0m\u001b[0;34m[\u001b[0m\u001b[0;36m0\u001b[0m\u001b[0;34m]\u001b[0m\u001b[0;34m\u001b[0m\u001b[0m\n\u001b[0m\u001b[1;32m     56\u001b[0m                 \u001b[0mrunning_corrects\u001b[0m \u001b[0;34m+=\u001b[0m \u001b[0mtorch\u001b[0m\u001b[0;34m.\u001b[0m\u001b[0msum\u001b[0m\u001b[0;34m(\u001b[0m\u001b[0mpreds\u001b[0m \u001b[0;34m==\u001b[0m \u001b[0mlabels\u001b[0m\u001b[0;34m.\u001b[0m\u001b[0mdata\u001b[0m\u001b[0;34m)\u001b[0m\u001b[0;34m\u001b[0m\u001b[0m\n\u001b[1;32m     57\u001b[0m \u001b[0;34m\u001b[0m\u001b[0m\n",
      "\u001b[0;31mKeyboardInterrupt\u001b[0m: "
     ]
    }
   ],
   "source": [
    "model = train_model(model, criterion, optimizer, exp_lr_scheduler, dataloaders,\n",
    "                       num_epochs=num_epochs)"
   ]
  },
  {
   "cell_type": "code",
   "execution_count": null,
   "metadata": {
    "collapsed": true
   },
   "outputs": [],
   "source": []
  }
 ],
 "metadata": {
  "kernelspec": {
   "display_name": "pytorch_py3",
   "language": "python",
   "name": "pytorch_py3"
  },
  "language_info": {
   "codemirror_mode": {
    "name": "ipython",
    "version": 3
   },
   "file_extension": ".py",
   "mimetype": "text/x-python",
   "name": "python",
   "nbconvert_exporter": "python",
   "pygments_lexer": "ipython3",
   "version": "3.6.3"
  }
 },
 "nbformat": 4,
 "nbformat_minor": 2
}
